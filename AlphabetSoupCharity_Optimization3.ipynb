{
 "cells": [
  {
   "cell_type": "markdown",
   "metadata": {
    "id": "u1fLnbK2JVSy"
   },
   "source": [
    "## Preprocessing"
   ]
  },
  {
   "cell_type": "code",
   "execution_count": 1,
   "metadata": {
    "colab": {
     "base_uri": "https://localhost:8080/",
     "height": 371
    },
    "executionInfo": {
     "elapsed": 17519,
     "status": "ok",
     "timestamp": 1690941615762,
     "user": {
      "displayName": "Kennatha Williams",
      "userId": "11101958202960121306"
     },
     "user_tz": 300
    },
    "id": "xzQ3mTj2JVS1",
    "outputId": "25358c5b-7940-4926-9d8b-b85b9a597f27"
   },
   "outputs": [
    {
     "data": {
      "text/html": [
       "<div>\n",
       "<style scoped>\n",
       "    .dataframe tbody tr th:only-of-type {\n",
       "        vertical-align: middle;\n",
       "    }\n",
       "\n",
       "    .dataframe tbody tr th {\n",
       "        vertical-align: top;\n",
       "    }\n",
       "\n",
       "    .dataframe thead th {\n",
       "        text-align: right;\n",
       "    }\n",
       "</style>\n",
       "<table border=\"1\" class=\"dataframe\">\n",
       "  <thead>\n",
       "    <tr style=\"text-align: right;\">\n",
       "      <th></th>\n",
       "      <th>EIN</th>\n",
       "      <th>NAME</th>\n",
       "      <th>APPLICATION_TYPE</th>\n",
       "      <th>AFFILIATION</th>\n",
       "      <th>CLASSIFICATION</th>\n",
       "      <th>USE_CASE</th>\n",
       "      <th>ORGANIZATION</th>\n",
       "      <th>STATUS</th>\n",
       "      <th>INCOME_AMT</th>\n",
       "      <th>SPECIAL_CONSIDERATIONS</th>\n",
       "      <th>ASK_AMT</th>\n",
       "      <th>IS_SUCCESSFUL</th>\n",
       "    </tr>\n",
       "  </thead>\n",
       "  <tbody>\n",
       "    <tr>\n",
       "      <th>0</th>\n",
       "      <td>10520599</td>\n",
       "      <td>BLUE KNIGHTS MOTORCYCLE CLUB</td>\n",
       "      <td>T10</td>\n",
       "      <td>Independent</td>\n",
       "      <td>C1000</td>\n",
       "      <td>ProductDev</td>\n",
       "      <td>Association</td>\n",
       "      <td>1</td>\n",
       "      <td>0</td>\n",
       "      <td>N</td>\n",
       "      <td>5000</td>\n",
       "      <td>1</td>\n",
       "    </tr>\n",
       "    <tr>\n",
       "      <th>1</th>\n",
       "      <td>10531628</td>\n",
       "      <td>AMERICAN CHESAPEAKE CLUB CHARITABLE TR</td>\n",
       "      <td>T3</td>\n",
       "      <td>Independent</td>\n",
       "      <td>C2000</td>\n",
       "      <td>Preservation</td>\n",
       "      <td>Co-operative</td>\n",
       "      <td>1</td>\n",
       "      <td>1-9999</td>\n",
       "      <td>N</td>\n",
       "      <td>108590</td>\n",
       "      <td>1</td>\n",
       "    </tr>\n",
       "    <tr>\n",
       "      <th>2</th>\n",
       "      <td>10547893</td>\n",
       "      <td>ST CLOUD PROFESSIONAL FIREFIGHTERS</td>\n",
       "      <td>T5</td>\n",
       "      <td>CompanySponsored</td>\n",
       "      <td>C3000</td>\n",
       "      <td>ProductDev</td>\n",
       "      <td>Association</td>\n",
       "      <td>1</td>\n",
       "      <td>0</td>\n",
       "      <td>N</td>\n",
       "      <td>5000</td>\n",
       "      <td>0</td>\n",
       "    </tr>\n",
       "    <tr>\n",
       "      <th>3</th>\n",
       "      <td>10553066</td>\n",
       "      <td>SOUTHSIDE ATHLETIC ASSOCIATION</td>\n",
       "      <td>T3</td>\n",
       "      <td>CompanySponsored</td>\n",
       "      <td>C2000</td>\n",
       "      <td>Preservation</td>\n",
       "      <td>Trust</td>\n",
       "      <td>1</td>\n",
       "      <td>10000-24999</td>\n",
       "      <td>N</td>\n",
       "      <td>6692</td>\n",
       "      <td>1</td>\n",
       "    </tr>\n",
       "    <tr>\n",
       "      <th>4</th>\n",
       "      <td>10556103</td>\n",
       "      <td>GENETIC RESEARCH INSTITUTE OF THE DESERT</td>\n",
       "      <td>T3</td>\n",
       "      <td>Independent</td>\n",
       "      <td>C1000</td>\n",
       "      <td>Heathcare</td>\n",
       "      <td>Trust</td>\n",
       "      <td>1</td>\n",
       "      <td>100000-499999</td>\n",
       "      <td>N</td>\n",
       "      <td>142590</td>\n",
       "      <td>1</td>\n",
       "    </tr>\n",
       "  </tbody>\n",
       "</table>\n",
       "</div>"
      ],
      "text/plain": [
       "        EIN                                      NAME APPLICATION_TYPE   \n",
       "0  10520599              BLUE KNIGHTS MOTORCYCLE CLUB              T10  \\\n",
       "1  10531628    AMERICAN CHESAPEAKE CLUB CHARITABLE TR               T3   \n",
       "2  10547893        ST CLOUD PROFESSIONAL FIREFIGHTERS               T5   \n",
       "3  10553066            SOUTHSIDE ATHLETIC ASSOCIATION               T3   \n",
       "4  10556103  GENETIC RESEARCH INSTITUTE OF THE DESERT               T3   \n",
       "\n",
       "        AFFILIATION CLASSIFICATION      USE_CASE  ORGANIZATION  STATUS   \n",
       "0       Independent          C1000    ProductDev   Association       1  \\\n",
       "1       Independent          C2000  Preservation  Co-operative       1   \n",
       "2  CompanySponsored          C3000    ProductDev   Association       1   \n",
       "3  CompanySponsored          C2000  Preservation         Trust       1   \n",
       "4       Independent          C1000     Heathcare         Trust       1   \n",
       "\n",
       "      INCOME_AMT SPECIAL_CONSIDERATIONS  ASK_AMT  IS_SUCCESSFUL  \n",
       "0              0                      N     5000              1  \n",
       "1         1-9999                      N   108590              1  \n",
       "2              0                      N     5000              0  \n",
       "3    10000-24999                      N     6692              1  \n",
       "4  100000-499999                      N   142590              1  "
      ]
     },
     "execution_count": 1,
     "metadata": {},
     "output_type": "execute_result"
    }
   ],
   "source": [
    "# Import our dependencies\n",
    "from sklearn.model_selection import train_test_split\n",
    "from sklearn.preprocessing import StandardScaler\n",
    "import pandas as pd\n",
    "import tensorflow as tf\n",
    "\n",
    "#  Import and read the charity_data.csv.\n",
    "import pandas as pd\n",
    "application_df = pd.read_csv(\"https://static.bc-edx.com/data/dl-1-2/m21/lms/starter/charity_data.csv\")\n",
    "application_df.head()"
   ]
  },
  {
   "cell_type": "code",
   "execution_count": 2,
   "metadata": {
    "colab": {
     "base_uri": "https://localhost:8080/",
     "height": 206
    },
    "executionInfo": {
     "elapsed": 99,
     "status": "ok",
     "timestamp": 1690941615765,
     "user": {
      "displayName": "Kennatha Williams",
      "userId": "11101958202960121306"
     },
     "user_tz": 300
    },
    "id": "4aWzX4BzJVS2",
    "outputId": "3108b7c5-aff2-44a0-c421-99115cd18e12"
   },
   "outputs": [
    {
     "data": {
      "text/html": [
       "<div>\n",
       "<style scoped>\n",
       "    .dataframe tbody tr th:only-of-type {\n",
       "        vertical-align: middle;\n",
       "    }\n",
       "\n",
       "    .dataframe tbody tr th {\n",
       "        vertical-align: top;\n",
       "    }\n",
       "\n",
       "    .dataframe thead th {\n",
       "        text-align: right;\n",
       "    }\n",
       "</style>\n",
       "<table border=\"1\" class=\"dataframe\">\n",
       "  <thead>\n",
       "    <tr style=\"text-align: right;\">\n",
       "      <th></th>\n",
       "      <th>APPLICATION_TYPE</th>\n",
       "      <th>AFFILIATION</th>\n",
       "      <th>CLASSIFICATION</th>\n",
       "      <th>USE_CASE</th>\n",
       "      <th>ORGANIZATION</th>\n",
       "      <th>STATUS</th>\n",
       "      <th>INCOME_AMT</th>\n",
       "      <th>SPECIAL_CONSIDERATIONS</th>\n",
       "      <th>IS_SUCCESSFUL</th>\n",
       "    </tr>\n",
       "  </thead>\n",
       "  <tbody>\n",
       "    <tr>\n",
       "      <th>0</th>\n",
       "      <td>T10</td>\n",
       "      <td>Independent</td>\n",
       "      <td>C1000</td>\n",
       "      <td>ProductDev</td>\n",
       "      <td>Association</td>\n",
       "      <td>1</td>\n",
       "      <td>0</td>\n",
       "      <td>N</td>\n",
       "      <td>1</td>\n",
       "    </tr>\n",
       "    <tr>\n",
       "      <th>1</th>\n",
       "      <td>T3</td>\n",
       "      <td>Independent</td>\n",
       "      <td>C2000</td>\n",
       "      <td>Preservation</td>\n",
       "      <td>Co-operative</td>\n",
       "      <td>1</td>\n",
       "      <td>1-9999</td>\n",
       "      <td>N</td>\n",
       "      <td>1</td>\n",
       "    </tr>\n",
       "    <tr>\n",
       "      <th>2</th>\n",
       "      <td>T5</td>\n",
       "      <td>CompanySponsored</td>\n",
       "      <td>C3000</td>\n",
       "      <td>ProductDev</td>\n",
       "      <td>Association</td>\n",
       "      <td>1</td>\n",
       "      <td>0</td>\n",
       "      <td>N</td>\n",
       "      <td>0</td>\n",
       "    </tr>\n",
       "    <tr>\n",
       "      <th>3</th>\n",
       "      <td>T3</td>\n",
       "      <td>CompanySponsored</td>\n",
       "      <td>C2000</td>\n",
       "      <td>Preservation</td>\n",
       "      <td>Trust</td>\n",
       "      <td>1</td>\n",
       "      <td>10000-24999</td>\n",
       "      <td>N</td>\n",
       "      <td>1</td>\n",
       "    </tr>\n",
       "    <tr>\n",
       "      <th>4</th>\n",
       "      <td>T3</td>\n",
       "      <td>Independent</td>\n",
       "      <td>C1000</td>\n",
       "      <td>Heathcare</td>\n",
       "      <td>Trust</td>\n",
       "      <td>1</td>\n",
       "      <td>100000-499999</td>\n",
       "      <td>N</td>\n",
       "      <td>1</td>\n",
       "    </tr>\n",
       "  </tbody>\n",
       "</table>\n",
       "</div>"
      ],
      "text/plain": [
       "  APPLICATION_TYPE       AFFILIATION CLASSIFICATION      USE_CASE   \n",
       "0              T10       Independent          C1000    ProductDev  \\\n",
       "1               T3       Independent          C2000  Preservation   \n",
       "2               T5  CompanySponsored          C3000    ProductDev   \n",
       "3               T3  CompanySponsored          C2000  Preservation   \n",
       "4               T3       Independent          C1000     Heathcare   \n",
       "\n",
       "   ORGANIZATION  STATUS     INCOME_AMT SPECIAL_CONSIDERATIONS  IS_SUCCESSFUL  \n",
       "0   Association       1              0                      N              1  \n",
       "1  Co-operative       1         1-9999                      N              1  \n",
       "2   Association       1              0                      N              0  \n",
       "3         Trust       1    10000-24999                      N              1  \n",
       "4         Trust       1  100000-499999                      N              1  "
      ]
     },
     "execution_count": 2,
     "metadata": {},
     "output_type": "execute_result"
    }
   ],
   "source": [
    "# Drop the non-beneficial ID columns, 'EIN' and 'NAME'.\n",
    "application_df=application_df.drop(columns=[\"EIN\",\"NAME\",\"ASK_AMT\"])\n",
    "application_df.head()"
   ]
  },
  {
   "cell_type": "code",
   "execution_count": 3,
   "metadata": {
    "colab": {
     "base_uri": "https://localhost:8080/"
    },
    "executionInfo": {
     "elapsed": 90,
     "status": "ok",
     "timestamp": 1690941615766,
     "user": {
      "displayName": "Kennatha Williams",
      "userId": "11101958202960121306"
     },
     "user_tz": 300
    },
    "id": "HjzQuq8JJVS3",
    "outputId": "e7049b2e-fe0a-482d-c453-9d4ee8f12923"
   },
   "outputs": [
    {
     "data": {
      "text/plain": [
       "APPLICATION_TYPE          17\n",
       "AFFILIATION                6\n",
       "CLASSIFICATION            71\n",
       "USE_CASE                   5\n",
       "ORGANIZATION               4\n",
       "STATUS                     2\n",
       "INCOME_AMT                 9\n",
       "SPECIAL_CONSIDERATIONS     2\n",
       "IS_SUCCESSFUL              2\n",
       "dtype: int64"
      ]
     },
     "execution_count": 3,
     "metadata": {},
     "output_type": "execute_result"
    }
   ],
   "source": [
    "# Determine the number of unique values in each column.\n",
    "application_df.nunique()"
   ]
  },
  {
   "cell_type": "code",
   "execution_count": 4,
   "metadata": {
    "colab": {
     "base_uri": "https://localhost:8080/"
    },
    "executionInfo": {
     "elapsed": 84,
     "status": "ok",
     "timestamp": 1690941615767,
     "user": {
      "displayName": "Kennatha Williams",
      "userId": "11101958202960121306"
     },
     "user_tz": 300
    },
    "id": "9gh0M4rDJVS3",
    "outputId": "97f4592c-cd61-4e04-8b63-d7572d2e034d"
   },
   "outputs": [
    {
     "data": {
      "text/plain": [
       "APPLICATION_TYPE\n",
       "T3     27037\n",
       "T4      1542\n",
       "T6      1216\n",
       "T5      1173\n",
       "T19     1065\n",
       "T8       737\n",
       "T7       725\n",
       "T10      528\n",
       "T9       156\n",
       "T13       66\n",
       "T12       27\n",
       "T2        16\n",
       "T25        3\n",
       "T14        3\n",
       "T29        2\n",
       "T15        2\n",
       "T17        1\n",
       "Name: count, dtype: int64"
      ]
     },
     "execution_count": 4,
     "metadata": {},
     "output_type": "execute_result"
    }
   ],
   "source": [
    "# Look at APPLICATION_TYPE value counts for binning\n",
    "application_df[\"APPLICATION_TYPE\"].value_counts()"
   ]
  },
  {
   "cell_type": "code",
   "execution_count": 5,
   "metadata": {
    "colab": {
     "base_uri": "https://localhost:8080/"
    },
    "executionInfo": {
     "elapsed": 80,
     "status": "ok",
     "timestamp": 1690941615768,
     "user": {
      "displayName": "Kennatha Williams",
      "userId": "11101958202960121306"
     },
     "user_tz": 300
    },
    "id": "M1S8ibLFJVS3",
    "outputId": "8a9e47ff-bf20-4b18-f262-c6b6c1e32f0e"
   },
   "outputs": [
    {
     "data": {
      "text/plain": [
       "APPLICATION_TYPE\n",
       "T3       27037\n",
       "T4        1542\n",
       "T6        1216\n",
       "T5        1173\n",
       "T19       1065\n",
       "T8         737\n",
       "T7         725\n",
       "T10        528\n",
       "Other      276\n",
       "Name: count, dtype: int64"
      ]
     },
     "execution_count": 5,
     "metadata": {},
     "output_type": "execute_result"
    }
   ],
   "source": [
    "# Choose a cutoff value and create a list of application types to be replaced\n",
    "# use the variable name `application_types_to_replace`\n",
    "application_types_to_replace=application_df[\"APPLICATION_TYPE\"].value_counts()[application_df[\"APPLICATION_TYPE\"].value_counts()<500].index.tolist()\n",
    "\n",
    "# Replace in dataframe\n",
    "for app in application_types_to_replace:\n",
    "    application_df['APPLICATION_TYPE'] = application_df['APPLICATION_TYPE'].replace(app,\"Other\")\n",
    "\n",
    "# Check to make sure binning was successful\n",
    "application_df['APPLICATION_TYPE'].value_counts()"
   ]
  },
  {
   "cell_type": "code",
   "execution_count": 6,
   "metadata": {
    "colab": {
     "base_uri": "https://localhost:8080/"
    },
    "executionInfo": {
     "elapsed": 77,
     "status": "ok",
     "timestamp": 1690941615769,
     "user": {
      "displayName": "Kennatha Williams",
      "userId": "11101958202960121306"
     },
     "user_tz": 300
    },
    "id": "atnJbKQqJVS4",
    "outputId": "8c293916-7e06-4ca3-bd6e-b548e1c0ef9e"
   },
   "outputs": [
    {
     "data": {
      "text/plain": [
       "CLASSIFICATION\n",
       "C1000    17326\n",
       "C2000     6074\n",
       "C1200     4837\n",
       "C3000     1918\n",
       "C2100     1883\n",
       "         ...  \n",
       "C4120        1\n",
       "C8210        1\n",
       "C2561        1\n",
       "C4500        1\n",
       "C2150        1\n",
       "Name: count, Length: 71, dtype: int64"
      ]
     },
     "execution_count": 6,
     "metadata": {},
     "output_type": "execute_result"
    }
   ],
   "source": [
    "# Look at CLASSIFICATION value counts for binning\n",
    "application_df[\"CLASSIFICATION\"].value_counts()"
   ]
  },
  {
   "cell_type": "code",
   "execution_count": 7,
   "metadata": {
    "colab": {
     "base_uri": "https://localhost:8080/"
    },
    "executionInfo": {
     "elapsed": 76,
     "status": "ok",
     "timestamp": 1690941615770,
     "user": {
      "displayName": "Kennatha Williams",
      "userId": "11101958202960121306"
     },
     "user_tz": 300
    },
    "id": "nD1NJWMTJVS4",
    "outputId": "050d442a-ca8c-4b56-c03d-6c6584b37b05"
   },
   "outputs": [
    {
     "data": {
      "text/plain": [
       "CLASSIFICATION\n",
       "C1000    17326\n",
       "C2000     6074\n",
       "C1200     4837\n",
       "C3000     1918\n",
       "C2100     1883\n",
       "C7000      777\n",
       "C1700      287\n",
       "C4000      194\n",
       "C5000      116\n",
       "C1270      114\n",
       "C2700      104\n",
       "C2800       95\n",
       "C7100       75\n",
       "C1300       58\n",
       "C1280       50\n",
       "C1230       36\n",
       "C1400       34\n",
       "C7200       32\n",
       "C2300       32\n",
       "C1240       30\n",
       "C8000       20\n",
       "C7120       18\n",
       "C1500       16\n",
       "C1800       15\n",
       "C6000       15\n",
       "C1250       14\n",
       "C8200       11\n",
       "C1238       10\n",
       "C1278       10\n",
       "C1235        9\n",
       "C1237        9\n",
       "C7210        7\n",
       "C2400        6\n",
       "C1720        6\n",
       "C4100        6\n",
       "C1257        5\n",
       "C1600        5\n",
       "C1260        3\n",
       "C2710        3\n",
       "C0           3\n",
       "C3200        2\n",
       "C1234        2\n",
       "C1246        2\n",
       "C1267        2\n",
       "C1256        2\n",
       "Name: count, dtype: int64"
      ]
     },
     "execution_count": 7,
     "metadata": {},
     "output_type": "execute_result"
    }
   ],
   "source": [
    "# You may find it helpful to look at CLASSIFICATION value counts >1\n",
    "application_df[\"CLASSIFICATION\"].value_counts()[application_df[\"CLASSIFICATION\"].value_counts()>1]"
   ]
  },
  {
   "cell_type": "code",
   "execution_count": 8,
   "metadata": {
    "colab": {
     "base_uri": "https://localhost:8080/"
    },
    "executionInfo": {
     "elapsed": 75,
     "status": "ok",
     "timestamp": 1690941615771,
     "user": {
      "displayName": "Kennatha Williams",
      "userId": "11101958202960121306"
     },
     "user_tz": 300
    },
    "id": "yc5pbuHfJVS4",
    "outputId": "bf78d52b-fb04-456d-c99b-42c0f97db547"
   },
   "outputs": [
    {
     "data": {
      "text/plain": [
       "CLASSIFICATION\n",
       "C1000    17326\n",
       "C2000     6074\n",
       "C1200     4837\n",
       "Other     2261\n",
       "C3000     1918\n",
       "C2100     1883\n",
       "Name: count, dtype: int64"
      ]
     },
     "execution_count": 8,
     "metadata": {},
     "output_type": "execute_result"
    }
   ],
   "source": [
    "# Choose a cutoff value and create a list of classifications to be replaced\n",
    "# use the variable name `classifications_to_replace`\n",
    "classifications_to_replace=application_df[\"CLASSIFICATION\"].value_counts()[application_df[\"CLASSIFICATION\"].value_counts()<1800].index.tolist()\n",
    "\n",
    "# Replace in dataframe\n",
    "for cls in classifications_to_replace:\n",
    "    application_df['CLASSIFICATION'] = application_df['CLASSIFICATION'].replace(cls,\"Other\")\n",
    "\n",
    "# Check to make sure binning was successful\n",
    "application_df['CLASSIFICATION'].value_counts()"
   ]
  },
  {
   "cell_type": "code",
   "execution_count": 9,
   "metadata": {
    "colab": {
     "base_uri": "https://localhost:8080/",
     "height": 317
    },
    "executionInfo": {
     "elapsed": 75,
     "status": "ok",
     "timestamp": 1690941615773,
     "user": {
      "displayName": "Kennatha Williams",
      "userId": "11101958202960121306"
     },
     "user_tz": 300
    },
    "id": "ysc1BroKJVS5",
    "outputId": "47ec7f67-b2fe-4b8e-9ad4-5c653cf2f17c"
   },
   "outputs": [
    {
     "data": {
      "text/html": [
       "<div>\n",
       "<style scoped>\n",
       "    .dataframe tbody tr th:only-of-type {\n",
       "        vertical-align: middle;\n",
       "    }\n",
       "\n",
       "    .dataframe tbody tr th {\n",
       "        vertical-align: top;\n",
       "    }\n",
       "\n",
       "    .dataframe thead th {\n",
       "        text-align: right;\n",
       "    }\n",
       "</style>\n",
       "<table border=\"1\" class=\"dataframe\">\n",
       "  <thead>\n",
       "    <tr style=\"text-align: right;\">\n",
       "      <th></th>\n",
       "      <th>STATUS</th>\n",
       "      <th>IS_SUCCESSFUL</th>\n",
       "      <th>APPLICATION_TYPE_Other</th>\n",
       "      <th>APPLICATION_TYPE_T10</th>\n",
       "      <th>APPLICATION_TYPE_T19</th>\n",
       "      <th>APPLICATION_TYPE_T3</th>\n",
       "      <th>APPLICATION_TYPE_T4</th>\n",
       "      <th>APPLICATION_TYPE_T5</th>\n",
       "      <th>APPLICATION_TYPE_T6</th>\n",
       "      <th>APPLICATION_TYPE_T7</th>\n",
       "      <th>...</th>\n",
       "      <th>INCOME_AMT_1-9999</th>\n",
       "      <th>INCOME_AMT_10000-24999</th>\n",
       "      <th>INCOME_AMT_100000-499999</th>\n",
       "      <th>INCOME_AMT_10M-50M</th>\n",
       "      <th>INCOME_AMT_1M-5M</th>\n",
       "      <th>INCOME_AMT_25000-99999</th>\n",
       "      <th>INCOME_AMT_50M+</th>\n",
       "      <th>INCOME_AMT_5M-10M</th>\n",
       "      <th>SPECIAL_CONSIDERATIONS_N</th>\n",
       "      <th>SPECIAL_CONSIDERATIONS_Y</th>\n",
       "    </tr>\n",
       "  </thead>\n",
       "  <tbody>\n",
       "    <tr>\n",
       "      <th>0</th>\n",
       "      <td>1</td>\n",
       "      <td>1</td>\n",
       "      <td>False</td>\n",
       "      <td>True</td>\n",
       "      <td>False</td>\n",
       "      <td>False</td>\n",
       "      <td>False</td>\n",
       "      <td>False</td>\n",
       "      <td>False</td>\n",
       "      <td>False</td>\n",
       "      <td>...</td>\n",
       "      <td>False</td>\n",
       "      <td>False</td>\n",
       "      <td>False</td>\n",
       "      <td>False</td>\n",
       "      <td>False</td>\n",
       "      <td>False</td>\n",
       "      <td>False</td>\n",
       "      <td>False</td>\n",
       "      <td>True</td>\n",
       "      <td>False</td>\n",
       "    </tr>\n",
       "    <tr>\n",
       "      <th>1</th>\n",
       "      <td>1</td>\n",
       "      <td>1</td>\n",
       "      <td>False</td>\n",
       "      <td>False</td>\n",
       "      <td>False</td>\n",
       "      <td>True</td>\n",
       "      <td>False</td>\n",
       "      <td>False</td>\n",
       "      <td>False</td>\n",
       "      <td>False</td>\n",
       "      <td>...</td>\n",
       "      <td>True</td>\n",
       "      <td>False</td>\n",
       "      <td>False</td>\n",
       "      <td>False</td>\n",
       "      <td>False</td>\n",
       "      <td>False</td>\n",
       "      <td>False</td>\n",
       "      <td>False</td>\n",
       "      <td>True</td>\n",
       "      <td>False</td>\n",
       "    </tr>\n",
       "    <tr>\n",
       "      <th>2</th>\n",
       "      <td>1</td>\n",
       "      <td>0</td>\n",
       "      <td>False</td>\n",
       "      <td>False</td>\n",
       "      <td>False</td>\n",
       "      <td>False</td>\n",
       "      <td>False</td>\n",
       "      <td>True</td>\n",
       "      <td>False</td>\n",
       "      <td>False</td>\n",
       "      <td>...</td>\n",
       "      <td>False</td>\n",
       "      <td>False</td>\n",
       "      <td>False</td>\n",
       "      <td>False</td>\n",
       "      <td>False</td>\n",
       "      <td>False</td>\n",
       "      <td>False</td>\n",
       "      <td>False</td>\n",
       "      <td>True</td>\n",
       "      <td>False</td>\n",
       "    </tr>\n",
       "    <tr>\n",
       "      <th>3</th>\n",
       "      <td>1</td>\n",
       "      <td>1</td>\n",
       "      <td>False</td>\n",
       "      <td>False</td>\n",
       "      <td>False</td>\n",
       "      <td>True</td>\n",
       "      <td>False</td>\n",
       "      <td>False</td>\n",
       "      <td>False</td>\n",
       "      <td>False</td>\n",
       "      <td>...</td>\n",
       "      <td>False</td>\n",
       "      <td>True</td>\n",
       "      <td>False</td>\n",
       "      <td>False</td>\n",
       "      <td>False</td>\n",
       "      <td>False</td>\n",
       "      <td>False</td>\n",
       "      <td>False</td>\n",
       "      <td>True</td>\n",
       "      <td>False</td>\n",
       "    </tr>\n",
       "    <tr>\n",
       "      <th>4</th>\n",
       "      <td>1</td>\n",
       "      <td>1</td>\n",
       "      <td>False</td>\n",
       "      <td>False</td>\n",
       "      <td>False</td>\n",
       "      <td>True</td>\n",
       "      <td>False</td>\n",
       "      <td>False</td>\n",
       "      <td>False</td>\n",
       "      <td>False</td>\n",
       "      <td>...</td>\n",
       "      <td>False</td>\n",
       "      <td>False</td>\n",
       "      <td>True</td>\n",
       "      <td>False</td>\n",
       "      <td>False</td>\n",
       "      <td>False</td>\n",
       "      <td>False</td>\n",
       "      <td>False</td>\n",
       "      <td>True</td>\n",
       "      <td>False</td>\n",
       "    </tr>\n",
       "  </tbody>\n",
       "</table>\n",
       "<p>5 rows × 43 columns</p>\n",
       "</div>"
      ],
      "text/plain": [
       "   STATUS  IS_SUCCESSFUL  APPLICATION_TYPE_Other  APPLICATION_TYPE_T10   \n",
       "0       1              1                   False                  True  \\\n",
       "1       1              1                   False                 False   \n",
       "2       1              0                   False                 False   \n",
       "3       1              1                   False                 False   \n",
       "4       1              1                   False                 False   \n",
       "\n",
       "   APPLICATION_TYPE_T19  APPLICATION_TYPE_T3  APPLICATION_TYPE_T4   \n",
       "0                 False                False                False  \\\n",
       "1                 False                 True                False   \n",
       "2                 False                False                False   \n",
       "3                 False                 True                False   \n",
       "4                 False                 True                False   \n",
       "\n",
       "   APPLICATION_TYPE_T5  APPLICATION_TYPE_T6  APPLICATION_TYPE_T7  ...   \n",
       "0                False                False                False  ...  \\\n",
       "1                False                False                False  ...   \n",
       "2                 True                False                False  ...   \n",
       "3                False                False                False  ...   \n",
       "4                False                False                False  ...   \n",
       "\n",
       "   INCOME_AMT_1-9999  INCOME_AMT_10000-24999  INCOME_AMT_100000-499999   \n",
       "0              False                   False                     False  \\\n",
       "1               True                   False                     False   \n",
       "2              False                   False                     False   \n",
       "3              False                    True                     False   \n",
       "4              False                   False                      True   \n",
       "\n",
       "   INCOME_AMT_10M-50M  INCOME_AMT_1M-5M  INCOME_AMT_25000-99999   \n",
       "0               False             False                   False  \\\n",
       "1               False             False                   False   \n",
       "2               False             False                   False   \n",
       "3               False             False                   False   \n",
       "4               False             False                   False   \n",
       "\n",
       "   INCOME_AMT_50M+  INCOME_AMT_5M-10M  SPECIAL_CONSIDERATIONS_N   \n",
       "0            False              False                      True  \\\n",
       "1            False              False                      True   \n",
       "2            False              False                      True   \n",
       "3            False              False                      True   \n",
       "4            False              False                      True   \n",
       "\n",
       "   SPECIAL_CONSIDERATIONS_Y  \n",
       "0                     False  \n",
       "1                     False  \n",
       "2                     False  \n",
       "3                     False  \n",
       "4                     False  \n",
       "\n",
       "[5 rows x 43 columns]"
      ]
     },
     "execution_count": 9,
     "metadata": {},
     "output_type": "execute_result"
    }
   ],
   "source": [
    "# Convert categorical data to numeric with `pd.get_dummies`\n",
    "application_df=pd.get_dummies(application_df)\n",
    "application_df.head()\n"
   ]
  },
  {
   "cell_type": "code",
   "execution_count": 10,
   "metadata": {
    "executionInfo": {
     "elapsed": 74,
     "status": "ok",
     "timestamp": 1690941615774,
     "user": {
      "displayName": "Kennatha Williams",
      "userId": "11101958202960121306"
     },
     "user_tz": 300
    },
    "id": "E2kW2dwTJVS5"
   },
   "outputs": [],
   "source": [
    "# Split our preprocessed data into our features and target arrays\n",
    "X = application_df.drop(columns=\"IS_SUCCESSFUL\").values\n",
    "y = application_df[\"IS_SUCCESSFUL\"].values\n",
    "# Split the preprocessed data into a training and testing dataset\n",
    "X_train, X_test, y_train, y_test = train_test_split(X, y, random_state=1)\n"
   ]
  },
  {
   "cell_type": "code",
   "execution_count": 11,
   "metadata": {
    "executionInfo": {
     "elapsed": 73,
     "status": "ok",
     "timestamp": 1690941615774,
     "user": {
      "displayName": "Kennatha Williams",
      "userId": "11101958202960121306"
     },
     "user_tz": 300
    },
    "id": "6LTWH9iyJVS5"
   },
   "outputs": [],
   "source": [
    "# Create a StandardScaler instances\n",
    "scaler = StandardScaler()\n",
    "\n",
    "# Fit the StandardScaler\n",
    "X_scaler = scaler.fit(X_train)\n",
    "\n",
    "# Scale the data\n",
    "X_train_scaled = X_scaler.transform(X_train)\n",
    "X_test_scaled = X_scaler.transform(X_test)\n"
   ]
  },
  {
   "cell_type": "markdown",
   "metadata": {
    "id": "EZXgPOU7JVS6"
   },
   "source": [
    "## Compile, Train and Evaluate the Model"
   ]
  },
  {
   "cell_type": "code",
   "execution_count": 12,
   "metadata": {
    "colab": {
     "base_uri": "https://localhost:8080/"
    },
    "executionInfo": {
     "elapsed": 534,
     "status": "ok",
     "timestamp": 1690941928816,
     "user": {
      "displayName": "Kennatha Williams",
      "userId": "11101958202960121306"
     },
     "user_tz": 300
    },
    "id": "95Ls6NO0JVS6",
    "outputId": "8e1d4052-a9c0-454a-cd69-0b852b505749"
   },
   "outputs": [
    {
     "name": "stdout",
     "output_type": "stream",
     "text": [
      "Model: \"sequential\"\n",
      "_________________________________________________________________\n",
      " Layer (type)                Output Shape              Param #   \n",
      "=================================================================\n",
      " dense (Dense)               (None, 200)               8600      \n",
      "                                                                 \n",
      " dense_1 (Dense)             (None, 100)               20100     \n",
      "                                                                 \n",
      " dense_2 (Dense)             (None, 50)                5050      \n",
      "                                                                 \n",
      " dense_3 (Dense)             (None, 1)                 51        \n",
      "                                                                 \n",
      "=================================================================\n",
      "Total params: 33801 (132.04 KB)\n",
      "Trainable params: 33801 (132.04 KB)\n",
      "Non-trainable params: 0 (0.00 Byte)\n",
      "_________________________________________________________________\n"
     ]
    }
   ],
   "source": [
    "# Define the model - deep neural net, i.e., the number of input features and hidden nodes for each layer.\n",
    "number_input_features = len(X_train[0])\n",
    "hidden_nodes_layer1 =  200\n",
    "hidden_nodes_layer2 = 100\n",
    "hidden_nodes_layer3 = 50\n",
    "\n",
    "nn = tf.keras.models.Sequential()\n",
    "\n",
    "# First hidden layer\n",
    "nn.add(\n",
    "    tf.keras.layers.Dense(units=hidden_nodes_layer1, input_dim=number_input_features, activation=\"relu\")\n",
    ")\n",
    "\n",
    "# Second hidden layer\n",
    "nn.add(\n",
    "    tf.keras.layers.Dense(units=hidden_nodes_layer2, input_dim=number_input_features, activation=\"relu\")\n",
    ")\n",
    "# Third hidden layer\n",
    "nn.add(\n",
    "    tf.keras.layers.Dense(units=hidden_nodes_layer3, input_dim=number_input_features, activation=\"relu\")\n",
    ")\n",
    "\n",
    "# Output layer\n",
    "nn.add(tf.keras.layers.Dense(units=1, activation=\"sigmoid\"))\n",
    "\n",
    "# Check the structure of the model\n",
    "nn.summary()"
   ]
  },
  {
   "cell_type": "code",
   "execution_count": 13,
   "metadata": {
    "executionInfo": {
     "elapsed": 342,
     "status": "ok",
     "timestamp": 1690941933442,
     "user": {
      "displayName": "Kennatha Williams",
      "userId": "11101958202960121306"
     },
     "user_tz": 300
    },
    "id": "j7avUnkeJVS6"
   },
   "outputs": [],
   "source": [
    "# Compile the model\n",
    "nn.compile(loss=\"binary_crossentropy\", optimizer=\"adam\", metrics=[\"accuracy\"])"
   ]
  },
  {
   "cell_type": "code",
   "execution_count": 14,
   "metadata": {
    "colab": {
     "base_uri": "https://localhost:8080/"
    },
    "executionInfo": {
     "elapsed": 323482,
     "status": "ok",
     "timestamp": 1690942259447,
     "user": {
      "displayName": "Kennatha Williams",
      "userId": "11101958202960121306"
     },
     "user_tz": 300
    },
    "id": "fx3NaoD2JVS6",
    "outputId": "12021aa2-2b4a-4a3f-c69f-2aea79f747e7"
   },
   "outputs": [
    {
     "name": "stdout",
     "output_type": "stream",
     "text": [
      "Epoch 1/150\n",
      "804/804 [==============================] - 5s 5ms/step - loss: 0.5656 - accuracy: 0.7220\n",
      "Epoch 2/150\n",
      "804/804 [==============================] - 4s 5ms/step - loss: 0.5541 - accuracy: 0.7289\n",
      "Epoch 3/150\n",
      "804/804 [==============================] - 4s 5ms/step - loss: 0.5529 - accuracy: 0.7306\n",
      "Epoch 4/150\n",
      "804/804 [==============================] - 4s 5ms/step - loss: 0.5508 - accuracy: 0.7313\n",
      "Epoch 5/150\n",
      "804/804 [==============================] - 3s 4ms/step - loss: 0.5495 - accuracy: 0.7315\n",
      "Epoch 6/150\n",
      "804/804 [==============================] - 3s 4ms/step - loss: 0.5488 - accuracy: 0.7335\n",
      "Epoch 7/150\n",
      "804/804 [==============================] - 3s 4ms/step - loss: 0.5478 - accuracy: 0.7327\n",
      "Epoch 8/150\n",
      "804/804 [==============================] - 4s 5ms/step - loss: 0.5473 - accuracy: 0.7336\n",
      "Epoch 9/150\n",
      "804/804 [==============================] - 4s 5ms/step - loss: 0.5457 - accuracy: 0.7339\n",
      "Epoch 10/150\n",
      "804/804 [==============================] - 3s 4ms/step - loss: 0.5457 - accuracy: 0.7346\n",
      "Epoch 11/150\n",
      "804/804 [==============================] - 3s 4ms/step - loss: 0.5453 - accuracy: 0.7355\n",
      "Epoch 12/150\n",
      "804/804 [==============================] - 3s 4ms/step - loss: 0.5447 - accuracy: 0.7355\n",
      "Epoch 13/150\n",
      "804/804 [==============================] - 3s 4ms/step - loss: 0.5442 - accuracy: 0.7348\n",
      "Epoch 14/150\n",
      "804/804 [==============================] - 3s 4ms/step - loss: 0.5435 - accuracy: 0.7357\n",
      "Epoch 15/150\n",
      "804/804 [==============================] - 3s 4ms/step - loss: 0.5435 - accuracy: 0.7357\n",
      "Epoch 16/150\n",
      "804/804 [==============================] - 3s 4ms/step - loss: 0.5433 - accuracy: 0.7361\n",
      "Epoch 17/150\n",
      "804/804 [==============================] - 3s 4ms/step - loss: 0.5427 - accuracy: 0.7361\n",
      "Epoch 18/150\n",
      "804/804 [==============================] - 4s 5ms/step - loss: 0.5423 - accuracy: 0.7373\n",
      "Epoch 19/150\n",
      "804/804 [==============================] - 3s 4ms/step - loss: 0.5419 - accuracy: 0.7368\n",
      "Epoch 20/150\n",
      "804/804 [==============================] - 4s 5ms/step - loss: 0.5415 - accuracy: 0.7369\n",
      "Epoch 21/150\n",
      "804/804 [==============================] - 3s 4ms/step - loss: 0.5408 - accuracy: 0.7381\n",
      "Epoch 22/150\n",
      "804/804 [==============================] - 4s 5ms/step - loss: 0.5418 - accuracy: 0.7367\n",
      "Epoch 23/150\n",
      "804/804 [==============================] - 4s 5ms/step - loss: 0.5410 - accuracy: 0.7372\n",
      "Epoch 24/150\n",
      "804/804 [==============================] - 3s 4ms/step - loss: 0.5406 - accuracy: 0.7371\n",
      "Epoch 25/150\n",
      "804/804 [==============================] - 3s 4ms/step - loss: 0.5401 - accuracy: 0.7377\n",
      "Epoch 26/150\n",
      "804/804 [==============================] - 4s 5ms/step - loss: 0.5402 - accuracy: 0.7371\n",
      "Epoch 27/150\n",
      "804/804 [==============================] - 4s 5ms/step - loss: 0.5395 - accuracy: 0.7378\n",
      "Epoch 28/150\n",
      "804/804 [==============================] - 4s 5ms/step - loss: 0.5396 - accuracy: 0.7374\n",
      "Epoch 29/150\n",
      "804/804 [==============================] - 4s 5ms/step - loss: 0.5395 - accuracy: 0.7384\n",
      "Epoch 30/150\n",
      "804/804 [==============================] - 4s 5ms/step - loss: 0.5391 - accuracy: 0.7385\n",
      "Epoch 31/150\n",
      "804/804 [==============================] - 4s 5ms/step - loss: 0.5389 - accuracy: 0.7383\n",
      "Epoch 32/150\n",
      "804/804 [==============================] - 4s 5ms/step - loss: 0.5387 - accuracy: 0.7385\n",
      "Epoch 33/150\n",
      "804/804 [==============================] - 4s 5ms/step - loss: 0.5388 - accuracy: 0.7387\n",
      "Epoch 34/150\n",
      "804/804 [==============================] - 4s 5ms/step - loss: 0.5389 - accuracy: 0.7384\n",
      "Epoch 35/150\n",
      "804/804 [==============================] - 4s 5ms/step - loss: 0.5377 - accuracy: 0.7390\n",
      "Epoch 36/150\n",
      "804/804 [==============================] - 4s 5ms/step - loss: 0.5381 - accuracy: 0.7386\n",
      "Epoch 37/150\n",
      "804/804 [==============================] - 3s 4ms/step - loss: 0.5379 - accuracy: 0.7384\n",
      "Epoch 38/150\n",
      "804/804 [==============================] - 4s 5ms/step - loss: 0.5377 - accuracy: 0.7382\n",
      "Epoch 39/150\n",
      "804/804 [==============================] - 3s 4ms/step - loss: 0.5376 - accuracy: 0.7388\n",
      "Epoch 40/150\n",
      "804/804 [==============================] - 3s 4ms/step - loss: 0.5374 - accuracy: 0.7393\n",
      "Epoch 41/150\n",
      "804/804 [==============================] - 4s 5ms/step - loss: 0.5374 - accuracy: 0.7388\n",
      "Epoch 42/150\n",
      "804/804 [==============================] - 4s 5ms/step - loss: 0.5367 - accuracy: 0.7394\n",
      "Epoch 43/150\n",
      "804/804 [==============================] - 4s 4ms/step - loss: 0.5365 - accuracy: 0.7381\n",
      "Epoch 44/150\n",
      "804/804 [==============================] - 4s 5ms/step - loss: 0.5371 - accuracy: 0.7381\n",
      "Epoch 45/150\n",
      "804/804 [==============================] - 4s 5ms/step - loss: 0.5368 - accuracy: 0.7394\n",
      "Epoch 46/150\n",
      "804/804 [==============================] - 4s 5ms/step - loss: 0.5365 - accuracy: 0.7392\n",
      "Epoch 47/150\n",
      "804/804 [==============================] - 3s 4ms/step - loss: 0.5364 - accuracy: 0.7392\n",
      "Epoch 48/150\n",
      "804/804 [==============================] - 4s 5ms/step - loss: 0.5367 - accuracy: 0.7389\n",
      "Epoch 49/150\n",
      "804/804 [==============================] - 4s 4ms/step - loss: 0.5366 - accuracy: 0.7390\n",
      "Epoch 50/150\n",
      "804/804 [==============================] - 4s 5ms/step - loss: 0.5368 - accuracy: 0.7400\n",
      "Epoch 51/150\n",
      "804/804 [==============================] - 4s 5ms/step - loss: 0.5361 - accuracy: 0.7392\n",
      "Epoch 52/150\n",
      "804/804 [==============================] - 4s 5ms/step - loss: 0.5359 - accuracy: 0.7401\n",
      "Epoch 53/150\n",
      "804/804 [==============================] - 4s 5ms/step - loss: 0.5357 - accuracy: 0.7395\n",
      "Epoch 54/150\n",
      "804/804 [==============================] - 4s 4ms/step - loss: 0.5360 - accuracy: 0.7399\n",
      "Epoch 55/150\n",
      "804/804 [==============================] - 4s 5ms/step - loss: 0.5357 - accuracy: 0.7399\n",
      "Epoch 56/150\n",
      "804/804 [==============================] - 3s 4ms/step - loss: 0.5350 - accuracy: 0.7394\n",
      "Epoch 57/150\n",
      "804/804 [==============================] - 4s 5ms/step - loss: 0.5354 - accuracy: 0.7397\n",
      "Epoch 58/150\n",
      "804/804 [==============================] - 3s 4ms/step - loss: 0.5356 - accuracy: 0.7402\n",
      "Epoch 59/150\n",
      "804/804 [==============================] - 4s 4ms/step - loss: 0.5350 - accuracy: 0.7402\n",
      "Epoch 60/150\n",
      "804/804 [==============================] - 4s 5ms/step - loss: 0.5350 - accuracy: 0.7400\n",
      "Epoch 61/150\n",
      "804/804 [==============================] - 4s 5ms/step - loss: 0.5372 - accuracy: 0.7400\n",
      "Epoch 62/150\n",
      "804/804 [==============================] - 4s 5ms/step - loss: 0.5348 - accuracy: 0.7403\n",
      "Epoch 63/150\n",
      "804/804 [==============================] - 3s 4ms/step - loss: 0.5341 - accuracy: 0.7399\n",
      "Epoch 64/150\n",
      "804/804 [==============================] - 3s 4ms/step - loss: 0.5344 - accuracy: 0.7398\n",
      "Epoch 65/150\n",
      "804/804 [==============================] - 4s 5ms/step - loss: 0.5345 - accuracy: 0.7406\n",
      "Epoch 66/150\n",
      "804/804 [==============================] - 3s 4ms/step - loss: 0.5342 - accuracy: 0.7398\n",
      "Epoch 67/150\n",
      "804/804 [==============================] - 4s 5ms/step - loss: 0.5343 - accuracy: 0.7402\n",
      "Epoch 68/150\n",
      "804/804 [==============================] - 4s 4ms/step - loss: 0.5340 - accuracy: 0.7399\n",
      "Epoch 69/150\n",
      "804/804 [==============================] - 4s 5ms/step - loss: 0.5354 - accuracy: 0.7405\n",
      "Epoch 70/150\n",
      "804/804 [==============================] - 3s 4ms/step - loss: 0.5341 - accuracy: 0.7397\n",
      "Epoch 71/150\n",
      "804/804 [==============================] - 4s 5ms/step - loss: 0.5342 - accuracy: 0.7407\n",
      "Epoch 72/150\n",
      "804/804 [==============================] - 3s 4ms/step - loss: 0.5344 - accuracy: 0.7395\n",
      "Epoch 73/150\n",
      "804/804 [==============================] - 4s 5ms/step - loss: 0.5342 - accuracy: 0.7401\n",
      "Epoch 74/150\n",
      "804/804 [==============================] - 4s 5ms/step - loss: 0.5344 - accuracy: 0.7396\n",
      "Epoch 75/150\n",
      "804/804 [==============================] - 4s 5ms/step - loss: 0.5343 - accuracy: 0.7404\n",
      "Epoch 76/150\n",
      "804/804 [==============================] - 3s 4ms/step - loss: 0.5340 - accuracy: 0.7405\n",
      "Epoch 77/150\n",
      "804/804 [==============================] - 4s 5ms/step - loss: 0.5355 - accuracy: 0.7397\n",
      "Epoch 78/150\n",
      "804/804 [==============================] - 4s 5ms/step - loss: 0.5362 - accuracy: 0.7403\n",
      "Epoch 79/150\n",
      "804/804 [==============================] - 3s 4ms/step - loss: 0.5337 - accuracy: 0.7407\n",
      "Epoch 80/150\n",
      "804/804 [==============================] - 4s 5ms/step - loss: 0.5333 - accuracy: 0.7407\n",
      "Epoch 81/150\n"
     ]
    },
    {
     "name": "stdout",
     "output_type": "stream",
     "text": [
      "804/804 [==============================] - 4s 5ms/step - loss: 0.5336 - accuracy: 0.7401\n",
      "Epoch 82/150\n",
      "804/804 [==============================] - 4s 5ms/step - loss: 0.5332 - accuracy: 0.7403\n",
      "Epoch 83/150\n",
      "804/804 [==============================] - 4s 5ms/step - loss: 0.5336 - accuracy: 0.7399\n",
      "Epoch 84/150\n",
      "804/804 [==============================] - 4s 5ms/step - loss: 0.5340 - accuracy: 0.7398\n",
      "Epoch 85/150\n",
      "804/804 [==============================] - 4s 5ms/step - loss: 0.5335 - accuracy: 0.7400\n",
      "Epoch 86/150\n",
      "804/804 [==============================] - 4s 5ms/step - loss: 0.5333 - accuracy: 0.7402\n",
      "Epoch 87/150\n",
      "804/804 [==============================] - 4s 5ms/step - loss: 0.5338 - accuracy: 0.7410\n",
      "Epoch 88/150\n",
      "804/804 [==============================] - 4s 5ms/step - loss: 0.5337 - accuracy: 0.7401\n",
      "Epoch 89/150\n",
      "804/804 [==============================] - 4s 5ms/step - loss: 0.5328 - accuracy: 0.7402\n",
      "Epoch 90/150\n",
      "804/804 [==============================] - 4s 5ms/step - loss: 0.5334 - accuracy: 0.7409\n",
      "Epoch 91/150\n",
      "804/804 [==============================] - 4s 5ms/step - loss: 0.5330 - accuracy: 0.7400\n",
      "Epoch 92/150\n",
      "804/804 [==============================] - 4s 6ms/step - loss: 0.5337 - accuracy: 0.7393\n",
      "Epoch 93/150\n",
      "804/804 [==============================] - 4s 5ms/step - loss: 0.5324 - accuracy: 0.7409\n",
      "Epoch 94/150\n",
      "804/804 [==============================] - 4s 5ms/step - loss: 0.5332 - accuracy: 0.7406\n",
      "Epoch 95/150\n",
      "804/804 [==============================] - 4s 5ms/step - loss: 0.5339 - accuracy: 0.7406\n",
      "Epoch 96/150\n",
      "804/804 [==============================] - 3s 4ms/step - loss: 0.5336 - accuracy: 0.7410\n",
      "Epoch 97/150\n",
      "804/804 [==============================] - 3s 4ms/step - loss: 0.5331 - accuracy: 0.7405\n",
      "Epoch 98/150\n",
      "804/804 [==============================] - 3s 4ms/step - loss: 0.5332 - accuracy: 0.7409\n",
      "Epoch 99/150\n",
      "804/804 [==============================] - 4s 5ms/step - loss: 0.5329 - accuracy: 0.7412\n",
      "Epoch 100/150\n",
      "804/804 [==============================] - 4s 5ms/step - loss: 0.5326 - accuracy: 0.7411\n",
      "Epoch 101/150\n",
      "804/804 [==============================] - 3s 4ms/step - loss: 0.5352 - accuracy: 0.7408\n",
      "Epoch 102/150\n",
      "804/804 [==============================] - 3s 4ms/step - loss: 0.5339 - accuracy: 0.7407\n",
      "Epoch 103/150\n",
      "804/804 [==============================] - 3s 4ms/step - loss: 0.5325 - accuracy: 0.7411\n",
      "Epoch 104/150\n",
      "804/804 [==============================] - 3s 4ms/step - loss: 0.5328 - accuracy: 0.7411\n",
      "Epoch 105/150\n",
      "804/804 [==============================] - 4s 5ms/step - loss: 0.5321 - accuracy: 0.7404\n",
      "Epoch 106/150\n",
      "804/804 [==============================] - 4s 5ms/step - loss: 0.5324 - accuracy: 0.7411\n",
      "Epoch 107/150\n",
      "804/804 [==============================] - 4s 5ms/step - loss: 0.5354 - accuracy: 0.7406\n",
      "Epoch 108/150\n",
      "804/804 [==============================] - 4s 5ms/step - loss: 0.5330 - accuracy: 0.7407\n",
      "Epoch 109/150\n",
      "804/804 [==============================] - 4s 5ms/step - loss: 0.5325 - accuracy: 0.7410\n",
      "Epoch 110/150\n",
      "804/804 [==============================] - 4s 5ms/step - loss: 0.5324 - accuracy: 0.7407\n",
      "Epoch 111/150\n",
      "804/804 [==============================] - 4s 5ms/step - loss: 0.5324 - accuracy: 0.7406\n",
      "Epoch 112/150\n",
      "804/804 [==============================] - 4s 5ms/step - loss: 0.5322 - accuracy: 0.7408\n",
      "Epoch 113/150\n",
      "804/804 [==============================] - 4s 5ms/step - loss: 0.5326 - accuracy: 0.7407\n",
      "Epoch 114/150\n",
      "804/804 [==============================] - 4s 5ms/step - loss: 0.5335 - accuracy: 0.7411\n",
      "Epoch 115/150\n",
      "804/804 [==============================] - 4s 5ms/step - loss: 0.5327 - accuracy: 0.7407\n",
      "Epoch 116/150\n",
      "804/804 [==============================] - 4s 5ms/step - loss: 0.5327 - accuracy: 0.7400\n",
      "Epoch 117/150\n",
      "804/804 [==============================] - 4s 5ms/step - loss: 0.5319 - accuracy: 0.7411\n",
      "Epoch 118/150\n",
      "804/804 [==============================] - 3s 4ms/step - loss: 0.5318 - accuracy: 0.7411\n",
      "Epoch 119/150\n",
      "804/804 [==============================] - 4s 5ms/step - loss: 0.5322 - accuracy: 0.7413\n",
      "Epoch 120/150\n",
      "804/804 [==============================] - 4s 5ms/step - loss: 0.5322 - accuracy: 0.7410\n",
      "Epoch 121/150\n",
      "804/804 [==============================] - 3s 4ms/step - loss: 0.5324 - accuracy: 0.7413\n",
      "Epoch 122/150\n",
      "804/804 [==============================] - 3s 4ms/step - loss: 0.5321 - accuracy: 0.7409\n",
      "Epoch 123/150\n",
      "804/804 [==============================] - 4s 4ms/step - loss: 0.5322 - accuracy: 0.7404\n",
      "Epoch 124/150\n",
      "804/804 [==============================] - 4s 5ms/step - loss: 0.5323 - accuracy: 0.7412\n",
      "Epoch 125/150\n",
      "804/804 [==============================] - 4s 5ms/step - loss: 0.6165 - accuracy: 0.7406\n",
      "Epoch 126/150\n",
      "804/804 [==============================] - 4s 5ms/step - loss: 0.5319 - accuracy: 0.7406\n",
      "Epoch 127/150\n",
      "804/804 [==============================] - 4s 5ms/step - loss: 0.5316 - accuracy: 0.7413\n",
      "Epoch 128/150\n",
      "804/804 [==============================] - 3s 4ms/step - loss: 0.5313 - accuracy: 0.7415\n",
      "Epoch 129/150\n",
      "804/804 [==============================] - 4s 5ms/step - loss: 0.5313 - accuracy: 0.7414\n",
      "Epoch 130/150\n",
      "804/804 [==============================] - 3s 4ms/step - loss: 0.5315 - accuracy: 0.7410\n",
      "Epoch 131/150\n",
      "804/804 [==============================] - 3s 4ms/step - loss: 0.5314 - accuracy: 0.7410\n",
      "Epoch 132/150\n",
      "804/804 [==============================] - 3s 4ms/step - loss: 0.5316 - accuracy: 0.7415\n",
      "Epoch 133/150\n",
      "804/804 [==============================] - 4s 4ms/step - loss: 0.5317 - accuracy: 0.7412\n",
      "Epoch 134/150\n",
      "804/804 [==============================] - 3s 4ms/step - loss: 0.5319 - accuracy: 0.7414\n",
      "Epoch 135/150\n",
      "804/804 [==============================] - 3s 4ms/step - loss: 0.5320 - accuracy: 0.7413\n",
      "Epoch 136/150\n",
      "804/804 [==============================] - 3s 4ms/step - loss: 0.5319 - accuracy: 0.7413\n",
      "Epoch 137/150\n",
      "804/804 [==============================] - 4s 5ms/step - loss: 0.5317 - accuracy: 0.7411\n",
      "Epoch 138/150\n",
      "804/804 [==============================] - 4s 5ms/step - loss: 0.5330 - accuracy: 0.7411\n",
      "Epoch 139/150\n",
      "804/804 [==============================] - 4s 5ms/step - loss: 0.5337 - accuracy: 0.7412\n",
      "Epoch 140/150\n",
      "804/804 [==============================] - 3s 4ms/step - loss: 0.5319 - accuracy: 0.7414\n",
      "Epoch 141/150\n",
      "804/804 [==============================] - 3s 4ms/step - loss: 0.5335 - accuracy: 0.7407\n",
      "Epoch 142/150\n",
      "804/804 [==============================] - 4s 5ms/step - loss: 0.5317 - accuracy: 0.7409\n",
      "Epoch 143/150\n",
      "804/804 [==============================] - 3s 4ms/step - loss: 0.5314 - accuracy: 0.7413\n",
      "Epoch 144/150\n",
      "804/804 [==============================] - 2s 3ms/step - loss: 0.5316 - accuracy: 0.7411\n",
      "Epoch 145/150\n",
      "804/804 [==============================] - 2s 3ms/step - loss: 0.5316 - accuracy: 0.7413\n",
      "Epoch 146/150\n",
      "804/804 [==============================] - 3s 4ms/step - loss: 0.5316 - accuracy: 0.7417\n",
      "Epoch 147/150\n",
      "804/804 [==============================] - 3s 4ms/step - loss: 0.5317 - accuracy: 0.7415\n",
      "Epoch 148/150\n",
      "804/804 [==============================] - 3s 3ms/step - loss: 0.5323 - accuracy: 0.7412\n",
      "Epoch 149/150\n",
      "804/804 [==============================] - 3s 4ms/step - loss: 0.5337 - accuracy: 0.7407\n",
      "Epoch 150/150\n",
      "804/804 [==============================] - 3s 4ms/step - loss: 0.5321 - accuracy: 0.7411\n"
     ]
    }
   ],
   "source": [
    "# Train the model\n",
    "\n",
    "fit_model = nn.fit(X_train_scaled,y_train,epochs=150)"
   ]
  },
  {
   "cell_type": "code",
   "execution_count": 15,
   "metadata": {
    "colab": {
     "base_uri": "https://localhost:8080/"
    },
    "executionInfo": {
     "elapsed": 1282,
     "status": "ok",
     "timestamp": 1690942292529,
     "user": {
      "displayName": "Kennatha Williams",
      "userId": "11101958202960121306"
     },
     "user_tz": 300
    },
    "id": "mUayTPHtJVS7",
    "outputId": "fc7d8e8d-8a2a-4f6c-891c-7905e40e7b04"
   },
   "outputs": [
    {
     "name": "stdout",
     "output_type": "stream",
     "text": [
      "268/268 - 1s - loss: 0.5856 - accuracy: 0.7285 - 806ms/epoch - 3ms/step\n",
      "Loss: 0.5855958461761475, Accuracy: 0.7285131216049194\n"
     ]
    }
   ],
   "source": [
    "# Evaluate the model using the test data\n",
    "model_loss, model_accuracy = nn.evaluate(X_test_scaled,y_test,verbose=2)\n",
    "print(f\"Loss: {model_loss}, Accuracy: {model_accuracy}\")"
   ]
  },
  {
   "cell_type": "code",
   "execution_count": 16,
   "metadata": {
    "executionInfo": {
     "elapsed": 418,
     "status": "ok",
     "timestamp": 1690942295911,
     "user": {
      "displayName": "Kennatha Williams",
      "userId": "11101958202960121306"
     },
     "user_tz": 300
    },
    "id": "JJ55QfWMJVS7"
   },
   "outputs": [
    {
     "name": "stderr",
     "output_type": "stream",
     "text": [
      "C:\\Users\\klw4b\\anaconda3\\lib\\site-packages\\keras\\src\\engine\\training.py:3000: UserWarning: You are saving your model as an HDF5 file via `model.save()`. This file format is considered legacy. We recommend using instead the native Keras format, e.g. `model.save('my_model.keras')`.\n",
      "  saving_api.save_model(\n"
     ]
    }
   ],
   "source": [
    "# Export our model to HDF5 file\n",
    "nn.save('AlphabetSoupCharity_optimization3.h5')"
   ]
  }
 ],
 "metadata": {
  "colab": {
   "provenance": [
    {
     "file_id": "1FdCED428kyMFzL2C8aXE70jemzwfCb70",
     "timestamp": 1690941440063
    },
    {
     "file_id": "1nP9y-X4CzBD5XVpuYE5vvG8SHiYyUGbU",
     "timestamp": 1690941150954
    },
    {
     "file_id": "1pySmorKNgJ-_uWN6GyFcmPBYo9bqrzdr",
     "timestamp": 1690935454518
    },
    {
     "file_id": "https://github.com/Kennatha/deep-learning-challenge/blob/main/Starter_Code.ipynb",
     "timestamp": 1690642839102
    }
   ]
  },
  "kernelspec": {
   "display_name": "Python 3 (ipykernel)",
   "language": "python",
   "name": "python3"
  },
  "language_info": {
   "codemirror_mode": {
    "name": "ipython",
    "version": 3
   },
   "file_extension": ".py",
   "mimetype": "text/x-python",
   "name": "python",
   "nbconvert_exporter": "python",
   "pygments_lexer": "ipython3",
   "version": "3.9.13"
  },
  "vscode": {
   "interpreter": {
    "hash": "31f2aee4e71d21fbe5cf8b01ff0e069b9275f58929596ceb00d14d90e3e16cd6"
   }
  }
 },
 "nbformat": 4,
 "nbformat_minor": 1
}
